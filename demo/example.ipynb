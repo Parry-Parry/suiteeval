{
 "cells": [
  {
   "cell_type": "markdown",
   "metadata": {},
   "source": [
    "# Using 🍬 SuiteEval"
   ]
  },
  {
   "cell_type": "markdown",
   "metadata": {},
   "source": [
    "# Setup\n",
    "\n",
    "Set up a new environment if you're working locally! Otherwise you can just run all cells"
   ]
  },
  {
   "cell_type": "code",
   "execution_count": null,
   "metadata": {},
   "outputs": [],
   "source": [
    "%pip install suiteval pyterrier-pisa seaborn"
   ]
  },
  {
   "cell_type": "code",
   "execution_count": null,
   "metadata": {},
   "outputs": [],
   "source": [
    "from os.path import join\n",
    "import re\n",
    "\n",
    "import pandas as pd\n",
    "import numpy as np\n",
    "import matplotlib.pyplot as plt\n",
    "from pyterrier_pisa import PisaIndex\n",
    "\n",
    "from suiteeval import DatasetContext, NanoBEIR"
   ]
  },
  {
   "cell_type": "markdown",
   "metadata": {},
   "source": [
    "### Visualisation"
   ]
  },
  {
   "cell_type": "code",
   "execution_count": null,
   "metadata": {},
   "outputs": [],
   "source": [
    "def plot_optimal(results: pd.DataFrame):\n",
    "    idx = results.groupby('dataset')['nDCG@10'].idxmax()\n",
    "    best = results.loc[idx, ['dataset', 'k1', 'b', 'nDCG@10']].reset_index(drop=True)\n",
    "\n",
    "    fig, ax = plt.subplots(figsize=(8, 6))\n",
    "    sc = ax.scatter(best['k1'], best['b'], c=best['nDCG@10'], s=70)\n",
    "\n",
    "    # Annotate with dataset names and nDCG@10\n",
    "    for _, row in best.iterrows():\n",
    "        ax.annotate(f\"{row['dataset']} ({row['nDCG@10']:.3f})\",\n",
    "                    (row['k1'], row['b']),\n",
    "                    xytext=(4, 4), textcoords='offset points')\n",
    "\n",
    "    ax.set_xlabel('k1')\n",
    "    ax.set_ylabel('b')\n",
    "    ax.set_title('Best (k1, b) per dataset by nDCG@10')\n",
    "    cbar = fig.colorbar(sc, ax=ax, label='nDCG@10')  # noqa: F841\n",
    "    ax.grid(True, alpha=0.3)\n",
    "    plt.tight_layout()\n",
    "    plt.show()"
   ]
  },
  {
   "cell_type": "markdown",
   "metadata": {},
   "source": [
    "## A Simple Experiment\n",
    "\n",
    "Let's do a sweep on NanoBEIR to see how different BM25 parameters perform under different domains and query geometries.\n",
    "\n",
    "We will use PyTerrier-PISA to quickly index and execute many queries\n",
    "\n",
    "### Setting up our Pipelines\n",
    "\n",
    "🍬 SuiteEval requires one or more generator functions to create new indices and pipelines dynamically, our pipeline generator will index a corpus and then yeild a bm25 model for our parameter space.\n",
    " \n",
    "We are going to explore values of k1 and b. "
   ]
  },
  {
   "cell_type": "code",
   "execution_count": null,
   "metadata": {},
   "outputs": [],
   "source": [
    "K1_VALUES = np.arange(0.1, 3.0, 0.1)\n",
    "B_VALUES = np.arange(0.0, 1.0, 0.1)\n",
    "\n",
    "def bm25_sweep(context: DatasetContext):\n",
    "    index = PisaIndex(join(context.path, \"index.pisa\")) # context.path is a temporary directory\n",
    "    index.index(context.get_corpus_iter()) # get_corpus_iter gives us a pyterrier compatible generator of {docno, text} records\n",
    "\n",
    "    for K_1 in K1_VALUES:\n",
    "        for B in B_VALUES:\n",
    "            yield index.bm25(k_1=K_1, b=B), \"BM25(k1={:.1f}, b={:.1f})\".format(K_1, B) # When we yield a model and a name, this name is passed to PyTerrier"
   ]
  },
  {
   "cell_type": "markdown",
   "metadata": {},
   "source": [
    "Now we can execute our pipeline. Under the hood we are creating indexes and models dynamically and running benchmarks across all datasets."
   ]
  },
  {
   "cell_type": "code",
   "execution_count": null,
   "metadata": {},
   "outputs": [],
   "source": [
    "results = NanoBEIR(bm25_sweep)"
   ]
  },
  {
   "cell_type": "markdown",
   "metadata": {},
   "source": [
    "Let's parse our values from the model names."
   ]
  },
  {
   "cell_type": "code",
   "execution_count": null,
   "metadata": {},
   "outputs": [],
   "source": [
    "name_pattern = re.compile(r'BM25\\(k1=([0-9.]+), b=[0-9.]+\\)')\n",
    "\n",
    "results['k1'] = results['model'].apply(lambda x: float(name_pattern.match(x).group(1)))\n",
    "results['b'] = results['model'].apply(lambda x: float(re.search(r'b=([0-9.]+)\\)', x).group(1)))"
   ]
  },
  {
   "cell_type": "markdown",
   "metadata": {},
   "source": [
    "## Exploring our Results\n",
    "\n",
    "Let's first see optimal values across all datasets"
   ]
  },
  {
   "cell_type": "code",
   "execution_count": null,
   "metadata": {},
   "outputs": [],
   "source": [
    "plot_optimal(results)"
   ]
  },
  {
   "cell_type": "markdown",
   "metadata": {},
   "source": [
    "Now let's choose a few datasets which have highly variable document lengths to see how the parameter b affects nDCG."
   ]
  },
  {
   "cell_type": "code",
   "execution_count": null,
   "metadata": {},
   "outputs": [],
   "source": []
  }
 ],
 "metadata": {
  "kernelspec": {
   "display_name": "Python 3",
   "language": "python",
   "name": "python3"
  },
  "language_info": {
   "name": "python",
   "version": "3.9.6"
  }
 },
 "nbformat": 4,
 "nbformat_minor": 2
}
