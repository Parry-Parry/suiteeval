{
 "cells": [
  {
   "cell_type": "markdown",
   "metadata": {},
   "source": [
    "# Under the Hood of 🍬 SuiteEval\n",
    "\n",
    "Now let's look at the constituent structures of 🍬 SuiteEval and how it can be extended to other benchmarks or tweaked.\n",
    "\n",
    "## Setup\n",
    "\n",
    "Set up a new environment if you're working locally! Otherwise you can just run all cells"
   ]
  },
  {
   "cell_type": "code",
   "execution_count": null,
   "metadata": {},
   "outputs": [],
   "source": [
    "%pip install suiteval"
   ]
  },
  {
   "cell_type": "code",
   "execution_count": null,
   "metadata": {},
   "outputs": [],
   "source": []
  }
 ],
 "metadata": {
  "language_info": {
   "name": "python"
  }
 },
 "nbformat": 4,
 "nbformat_minor": 2
}
